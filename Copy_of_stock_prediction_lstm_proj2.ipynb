{
  "nbformat": 4,
  "nbformat_minor": 0,
  "metadata": {
    "kernelspec": {
      "name": "python2",
      "display_name": "Python 2"
    },
    "language_info": {
      "codemirror_mode": {
        "name": "ipython",
        "version": 2
      },
      "file_extension": ".py",
      "mimetype": "text/x-python",
      "name": "python",
      "nbconvert_exporter": "python",
      "pygments_lexer": "ipython2",
      "version": "2.7.14"
    },
    "colab": {
      "name": "Copy of stock_prediction_lstm_proj2.ipynb",
      "provenance": [],
      "collapsed_sections": [],
      "toc_visible": true,
      "include_colab_link": true
    },
    "accelerator": "GPU"
  },
  "cells": [
    {
      "cell_type": "markdown",
      "metadata": {
        "id": "view-in-github",
        "colab_type": "text"
      },
      "source": [
        "<a href=\"https://colab.research.google.com/github/andysun-1997/Stock-Prediction-with-RNN-and-LSTM/blob/master/Copy_of_stock_prediction_lstm_proj2.ipynb\" target=\"_parent\"><img src=\"https://colab.research.google.com/assets/colab-badge.svg\" alt=\"Open In Colab\"/></a>"
      ]
    },
    {
      "cell_type": "markdown",
      "metadata": {
        "id": "vGbT1dgk2h0D",
        "colab_type": "text"
      },
      "source": [
        "# Stock Prediction RNN \n",
        "\n",
        "In this project, I perform a time series prediction using a Recurrent Neural Network regressor. For this example, I will predict Apple's stock price 15 days in advance.\n",
        "\n",
        "The particular network architecture I will employ for my RNN is a  [Long Term Short Memory (LTSM)](https://en.wikipedia.org/wiki/Long_short-term_memory), which helps significantly avoid technical problems with optimization of RNNs."
      ]
    },
    {
      "cell_type": "markdown",
      "metadata": {
        "id": "vwPba0Jg2bSX",
        "colab_type": "text"
      },
      "source": [
        "# Pytorch LSTM Stock Predictor\n",
        "\n",
        "This is a Pytorch version of the original Keras LSTM Stock Predictor provided by [Super DataScience](https://www.superdatascience.com/deep-learning/), and also available elsewhere in this repo as a notebook."
      ]
    },
    {
      "cell_type": "markdown",
      "metadata": {
        "id": "boG82OJt2n4g",
        "colab_type": "text"
      },
      "source": [
        "## Step 1: Loading the data\n",
        "\n",
        "First let's load in our time series - a history of around 1250 days of Apple's stock price. Then we need to perform a number of pre-processing steps to prepare it for use with an RNN model.  First off, it is good practice to normalize time series - by normalizing its range.  This helps us avoid serious numerical issues associated how common activation functions (like tanh) transform very large (positive or negative) numbers, as well as helping us to avoid related issues when computing derivatives.\n",
        "\n",
        "Here we normalize the series to lie in the range [0,1] [using this scikit function](http://scikit-learn.org/stable/modules/generated/sklearn.preprocessing.MinMaxScaler.html)."
      ]
    },
    {
      "cell_type": "code",
      "metadata": {
        "id": "6k-jrLoP20Fm",
        "colab_type": "code",
        "outputId": "92a51f72-3895-405d-aed1-13c1d6a1781d",
        "colab": {
          "base_uri": "https://localhost:8080/",
          "height": 228
        }
      },
      "source": [
        "# download the data\n",
        "!wget https://raw.githubusercontent.com/tonylaioffer/stock-prediction-lstm-using-keras/master/data/sandp500/all_stocks_5yr.csv"
      ],
      "execution_count": 111,
      "outputs": [
        {
          "output_type": "stream",
          "text": [
            "--2020-03-05 06:13:43--  https://raw.githubusercontent.com/tonylaioffer/stock-prediction-lstm-using-keras/master/data/sandp500/all_stocks_5yr.csv\n",
            "Resolving raw.githubusercontent.com (raw.githubusercontent.com)... 151.101.0.133, 151.101.64.133, 151.101.128.133, ...\n",
            "Connecting to raw.githubusercontent.com (raw.githubusercontent.com)|151.101.0.133|:443... connected.\n",
            "HTTP request sent, awaiting response... 200 OK\n",
            "Length: 29580549 (28M) [text/plain]\n",
            "Saving to: ‘all_stocks_5yr.csv.2’\n",
            "\n",
            "all_stocks_5yr.csv. 100%[===================>]  28.21M  46.7MB/s    in 0.6s    \n",
            "\n",
            "2020-03-05 06:13:44 (46.7 MB/s) - ‘all_stocks_5yr.csv.2’ saved [29580549/29580549]\n",
            "\n"
          ],
          "name": "stdout"
        }
      ]
    },
    {
      "cell_type": "code",
      "metadata": {
        "id": "3-8wHDYS28-m",
        "colab_type": "code",
        "outputId": "9c2f8baf-8b8c-40e0-d731-fdcd29541088",
        "colab": {
          "base_uri": "https://localhost:8080/",
          "height": 35
        }
      },
      "source": [
        "!ls ."
      ],
      "execution_count": 112,
      "outputs": [
        {
          "output_type": "stream",
          "text": [
            "all_stocks_5yr.csv  all_stocks_5yr.csv.1  all_stocks_5yr.csv.2\tsample_data\n"
          ],
          "name": "stdout"
        }
      ]
    },
    {
      "cell_type": "code",
      "metadata": {
        "id": "lC_2yxKR2bSe",
        "colab_type": "code",
        "colab": {}
      },
      "source": [
        "import numpy as np\n",
        "import pandas as pd\n",
        "import matplotlib.pyplot as plt\n",
        "\n",
        "import torch.nn as nn\n",
        "import torch\n",
        "from torch.autograd import Variable\n",
        "from torch.utils.data import Dataset, DataLoader"
      ],
      "execution_count": 0,
      "outputs": []
    },
    {
      "cell_type": "code",
      "metadata": {
        "id": "BvFrixdV2bSw",
        "colab_type": "code",
        "colab": {}
      },
      "source": [
        "# Importing the training set\n",
        "dataset = data = pd.read_csv('./all_stocks_5yr.csv')\n",
        "dataset_cl = dataset[dataset['Name']=='AAPL'].close.values\n",
        "\n",
        "# dataset_train = pd.read_csv('Google_Stock_Price_Train.csv')\n",
        "# training_set = dataset_train.iloc[:, 1:2].values"
      ],
      "execution_count": 0,
      "outputs": []
    },
    {
      "cell_type": "code",
      "metadata": {
        "id": "eTHPvs1CMF8v",
        "colab_type": "code",
        "outputId": "f902da77-020f-409e-e39e-5e64527b0ad0",
        "colab": {
          "base_uri": "https://localhost:8080/",
          "height": 662
        }
      },
      "source": [
        "dataset.head(20)"
      ],
      "execution_count": 115,
      "outputs": [
        {
          "output_type": "execute_result",
          "data": {
            "text/html": [
              "<div>\n",
              "<style scoped>\n",
              "    .dataframe tbody tr th:only-of-type {\n",
              "        vertical-align: middle;\n",
              "    }\n",
              "\n",
              "    .dataframe tbody tr th {\n",
              "        vertical-align: top;\n",
              "    }\n",
              "\n",
              "    .dataframe thead th {\n",
              "        text-align: right;\n",
              "    }\n",
              "</style>\n",
              "<table border=\"1\" class=\"dataframe\">\n",
              "  <thead>\n",
              "    <tr style=\"text-align: right;\">\n",
              "      <th></th>\n",
              "      <th>date</th>\n",
              "      <th>open</th>\n",
              "      <th>high</th>\n",
              "      <th>low</th>\n",
              "      <th>close</th>\n",
              "      <th>volume</th>\n",
              "      <th>Name</th>\n",
              "    </tr>\n",
              "  </thead>\n",
              "  <tbody>\n",
              "    <tr>\n",
              "      <th>0</th>\n",
              "      <td>2013-02-08</td>\n",
              "      <td>15.07</td>\n",
              "      <td>15.12</td>\n",
              "      <td>14.63</td>\n",
              "      <td>14.75</td>\n",
              "      <td>8407500</td>\n",
              "      <td>AAL</td>\n",
              "    </tr>\n",
              "    <tr>\n",
              "      <th>1</th>\n",
              "      <td>2013-02-11</td>\n",
              "      <td>14.89</td>\n",
              "      <td>15.01</td>\n",
              "      <td>14.26</td>\n",
              "      <td>14.46</td>\n",
              "      <td>8882000</td>\n",
              "      <td>AAL</td>\n",
              "    </tr>\n",
              "    <tr>\n",
              "      <th>2</th>\n",
              "      <td>2013-02-12</td>\n",
              "      <td>14.45</td>\n",
              "      <td>14.51</td>\n",
              "      <td>14.10</td>\n",
              "      <td>14.27</td>\n",
              "      <td>8126000</td>\n",
              "      <td>AAL</td>\n",
              "    </tr>\n",
              "    <tr>\n",
              "      <th>3</th>\n",
              "      <td>2013-02-13</td>\n",
              "      <td>14.30</td>\n",
              "      <td>14.94</td>\n",
              "      <td>14.25</td>\n",
              "      <td>14.66</td>\n",
              "      <td>10259500</td>\n",
              "      <td>AAL</td>\n",
              "    </tr>\n",
              "    <tr>\n",
              "      <th>4</th>\n",
              "      <td>2013-02-14</td>\n",
              "      <td>14.94</td>\n",
              "      <td>14.96</td>\n",
              "      <td>13.16</td>\n",
              "      <td>13.99</td>\n",
              "      <td>31879900</td>\n",
              "      <td>AAL</td>\n",
              "    </tr>\n",
              "    <tr>\n",
              "      <th>5</th>\n",
              "      <td>2013-02-15</td>\n",
              "      <td>13.93</td>\n",
              "      <td>14.61</td>\n",
              "      <td>13.93</td>\n",
              "      <td>14.50</td>\n",
              "      <td>15628000</td>\n",
              "      <td>AAL</td>\n",
              "    </tr>\n",
              "    <tr>\n",
              "      <th>6</th>\n",
              "      <td>2013-02-19</td>\n",
              "      <td>14.33</td>\n",
              "      <td>14.56</td>\n",
              "      <td>14.08</td>\n",
              "      <td>14.26</td>\n",
              "      <td>11354400</td>\n",
              "      <td>AAL</td>\n",
              "    </tr>\n",
              "    <tr>\n",
              "      <th>7</th>\n",
              "      <td>2013-02-20</td>\n",
              "      <td>14.17</td>\n",
              "      <td>14.26</td>\n",
              "      <td>13.15</td>\n",
              "      <td>13.33</td>\n",
              "      <td>14725200</td>\n",
              "      <td>AAL</td>\n",
              "    </tr>\n",
              "    <tr>\n",
              "      <th>8</th>\n",
              "      <td>2013-02-21</td>\n",
              "      <td>13.62</td>\n",
              "      <td>13.95</td>\n",
              "      <td>12.90</td>\n",
              "      <td>13.37</td>\n",
              "      <td>11922100</td>\n",
              "      <td>AAL</td>\n",
              "    </tr>\n",
              "    <tr>\n",
              "      <th>9</th>\n",
              "      <td>2013-02-22</td>\n",
              "      <td>13.57</td>\n",
              "      <td>13.60</td>\n",
              "      <td>13.21</td>\n",
              "      <td>13.57</td>\n",
              "      <td>6071400</td>\n",
              "      <td>AAL</td>\n",
              "    </tr>\n",
              "    <tr>\n",
              "      <th>10</th>\n",
              "      <td>2013-02-25</td>\n",
              "      <td>13.60</td>\n",
              "      <td>13.76</td>\n",
              "      <td>13.00</td>\n",
              "      <td>13.02</td>\n",
              "      <td>7186400</td>\n",
              "      <td>AAL</td>\n",
              "    </tr>\n",
              "    <tr>\n",
              "      <th>11</th>\n",
              "      <td>2013-02-26</td>\n",
              "      <td>13.14</td>\n",
              "      <td>13.42</td>\n",
              "      <td>12.70</td>\n",
              "      <td>13.26</td>\n",
              "      <td>9419000</td>\n",
              "      <td>AAL</td>\n",
              "    </tr>\n",
              "    <tr>\n",
              "      <th>12</th>\n",
              "      <td>2013-02-27</td>\n",
              "      <td>13.28</td>\n",
              "      <td>13.62</td>\n",
              "      <td>13.18</td>\n",
              "      <td>13.41</td>\n",
              "      <td>7390500</td>\n",
              "      <td>AAL</td>\n",
              "    </tr>\n",
              "    <tr>\n",
              "      <th>13</th>\n",
              "      <td>2013-02-28</td>\n",
              "      <td>13.49</td>\n",
              "      <td>13.63</td>\n",
              "      <td>13.39</td>\n",
              "      <td>13.43</td>\n",
              "      <td>6143600</td>\n",
              "      <td>AAL</td>\n",
              "    </tr>\n",
              "    <tr>\n",
              "      <th>14</th>\n",
              "      <td>2013-03-01</td>\n",
              "      <td>13.37</td>\n",
              "      <td>13.95</td>\n",
              "      <td>13.32</td>\n",
              "      <td>13.61</td>\n",
              "      <td>7376800</td>\n",
              "      <td>AAL</td>\n",
              "    </tr>\n",
              "    <tr>\n",
              "      <th>15</th>\n",
              "      <td>2013-03-04</td>\n",
              "      <td>13.50</td>\n",
              "      <td>14.07</td>\n",
              "      <td>13.47</td>\n",
              "      <td>13.90</td>\n",
              "      <td>8174800</td>\n",
              "      <td>AAL</td>\n",
              "    </tr>\n",
              "    <tr>\n",
              "      <th>16</th>\n",
              "      <td>2013-03-05</td>\n",
              "      <td>14.01</td>\n",
              "      <td>14.05</td>\n",
              "      <td>13.71</td>\n",
              "      <td>14.05</td>\n",
              "      <td>7676100</td>\n",
              "      <td>AAL</td>\n",
              "    </tr>\n",
              "    <tr>\n",
              "      <th>17</th>\n",
              "      <td>2013-03-06</td>\n",
              "      <td>14.52</td>\n",
              "      <td>14.68</td>\n",
              "      <td>14.25</td>\n",
              "      <td>14.57</td>\n",
              "      <td>13243200</td>\n",
              "      <td>AAL</td>\n",
              "    </tr>\n",
              "    <tr>\n",
              "      <th>18</th>\n",
              "      <td>2013-03-07</td>\n",
              "      <td>14.70</td>\n",
              "      <td>14.93</td>\n",
              "      <td>14.50</td>\n",
              "      <td>14.82</td>\n",
              "      <td>9125300</td>\n",
              "      <td>AAL</td>\n",
              "    </tr>\n",
              "    <tr>\n",
              "      <th>19</th>\n",
              "      <td>2013-03-08</td>\n",
              "      <td>14.99</td>\n",
              "      <td>15.20</td>\n",
              "      <td>14.84</td>\n",
              "      <td>14.92</td>\n",
              "      <td>10593700</td>\n",
              "      <td>AAL</td>\n",
              "    </tr>\n",
              "  </tbody>\n",
              "</table>\n",
              "</div>"
            ],
            "text/plain": [
              "          date   open   high    low  close    volume Name\n",
              "0   2013-02-08  15.07  15.12  14.63  14.75   8407500  AAL\n",
              "1   2013-02-11  14.89  15.01  14.26  14.46   8882000  AAL\n",
              "2   2013-02-12  14.45  14.51  14.10  14.27   8126000  AAL\n",
              "3   2013-02-13  14.30  14.94  14.25  14.66  10259500  AAL\n",
              "4   2013-02-14  14.94  14.96  13.16  13.99  31879900  AAL\n",
              "5   2013-02-15  13.93  14.61  13.93  14.50  15628000  AAL\n",
              "6   2013-02-19  14.33  14.56  14.08  14.26  11354400  AAL\n",
              "7   2013-02-20  14.17  14.26  13.15  13.33  14725200  AAL\n",
              "8   2013-02-21  13.62  13.95  12.90  13.37  11922100  AAL\n",
              "9   2013-02-22  13.57  13.60  13.21  13.57   6071400  AAL\n",
              "10  2013-02-25  13.60  13.76  13.00  13.02   7186400  AAL\n",
              "11  2013-02-26  13.14  13.42  12.70  13.26   9419000  AAL\n",
              "12  2013-02-27  13.28  13.62  13.18  13.41   7390500  AAL\n",
              "13  2013-02-28  13.49  13.63  13.39  13.43   6143600  AAL\n",
              "14  2013-03-01  13.37  13.95  13.32  13.61   7376800  AAL\n",
              "15  2013-03-04  13.50  14.07  13.47  13.90   8174800  AAL\n",
              "16  2013-03-05  14.01  14.05  13.71  14.05   7676100  AAL\n",
              "17  2013-03-06  14.52  14.68  14.25  14.57  13243200  AAL\n",
              "18  2013-03-07  14.70  14.93  14.50  14.82   9125300  AAL\n",
              "19  2013-03-08  14.99  15.20  14.84  14.92  10593700  AAL"
            ]
          },
          "metadata": {
            "tags": []
          },
          "execution_count": 115
        }
      ]
    },
    {
      "cell_type": "code",
      "metadata": {
        "id": "eA7IXyW1MZha",
        "colab_type": "code",
        "outputId": "23b35ce3-00c5-4b89-f8fe-5849169bee57",
        "colab": {
          "base_uri": "https://localhost:8080/",
          "height": 35
        }
      },
      "source": [
        "dataset_cl.view()"
      ],
      "execution_count": 116,
      "outputs": [
        {
          "output_type": "execute_result",
          "data": {
            "text/plain": [
              "array([ 67.8542,  68.5614,  66.8428, ..., 156.49  , 163.03  , 159.54  ])"
            ]
          },
          "metadata": {
            "tags": []
          },
          "execution_count": 116
        }
      ]
    },
    {
      "cell_type": "code",
      "metadata": {
        "id": "N16z1bhqa_Ay",
        "colab_type": "code",
        "outputId": "18b5c317-f7d9-4a76-bdb9-3c287fac1ec0",
        "colab": {
          "base_uri": "https://localhost:8080/",
          "height": 1000
        }
      },
      "source": [
        "set(dataset.Name)"
      ],
      "execution_count": 117,
      "outputs": [
        {
          "output_type": "execute_result",
          "data": {
            "text/plain": [
              "{'A',\n",
              " 'AAL',\n",
              " 'AAP',\n",
              " 'AAPL',\n",
              " 'ABBV',\n",
              " 'ABC',\n",
              " 'ABT',\n",
              " 'ACN',\n",
              " 'ADBE',\n",
              " 'ADI',\n",
              " 'ADM',\n",
              " 'ADP',\n",
              " 'ADS',\n",
              " 'ADSK',\n",
              " 'AEE',\n",
              " 'AEP',\n",
              " 'AES',\n",
              " 'AET',\n",
              " 'AFL',\n",
              " 'AGN',\n",
              " 'AIG',\n",
              " 'AIV',\n",
              " 'AIZ',\n",
              " 'AJG',\n",
              " 'AKAM',\n",
              " 'ALB',\n",
              " 'ALGN',\n",
              " 'ALK',\n",
              " 'ALL',\n",
              " 'ALLE',\n",
              " 'ALXN',\n",
              " 'AMAT',\n",
              " 'AMD',\n",
              " 'AME',\n",
              " 'AMG',\n",
              " 'AMGN',\n",
              " 'AMP',\n",
              " 'AMT',\n",
              " 'AMZN',\n",
              " 'ANDV',\n",
              " 'ANSS',\n",
              " 'ANTM',\n",
              " 'AON',\n",
              " 'AOS',\n",
              " 'APA',\n",
              " 'APC',\n",
              " 'APD',\n",
              " 'APH',\n",
              " 'APTV',\n",
              " 'ARE',\n",
              " 'ARNC',\n",
              " 'ATVI',\n",
              " 'AVB',\n",
              " 'AVGO',\n",
              " 'AVY',\n",
              " 'AWK',\n",
              " 'AXP',\n",
              " 'AYI',\n",
              " 'AZO',\n",
              " 'BA',\n",
              " 'BAC',\n",
              " 'BAX',\n",
              " 'BBT',\n",
              " 'BBY',\n",
              " 'BDX',\n",
              " 'BEN',\n",
              " 'BF.B',\n",
              " 'BHF',\n",
              " 'BHGE',\n",
              " 'BIIB',\n",
              " 'BK',\n",
              " 'BLK',\n",
              " 'BLL',\n",
              " 'BMY',\n",
              " 'BRK.B',\n",
              " 'BSX',\n",
              " 'BWA',\n",
              " 'BXP',\n",
              " 'C',\n",
              " 'CA',\n",
              " 'CAG',\n",
              " 'CAH',\n",
              " 'CAT',\n",
              " 'CB',\n",
              " 'CBG',\n",
              " 'CBOE',\n",
              " 'CBS',\n",
              " 'CCI',\n",
              " 'CCL',\n",
              " 'CDNS',\n",
              " 'CELG',\n",
              " 'CERN',\n",
              " 'CF',\n",
              " 'CFG',\n",
              " 'CHD',\n",
              " 'CHK',\n",
              " 'CHRW',\n",
              " 'CHTR',\n",
              " 'CI',\n",
              " 'CINF',\n",
              " 'CL',\n",
              " 'CLX',\n",
              " 'CMA',\n",
              " 'CMCSA',\n",
              " 'CME',\n",
              " 'CMG',\n",
              " 'CMI',\n",
              " 'CMS',\n",
              " 'CNC',\n",
              " 'CNP',\n",
              " 'COF',\n",
              " 'COG',\n",
              " 'COL',\n",
              " 'COO',\n",
              " 'COP',\n",
              " 'COST',\n",
              " 'COTY',\n",
              " 'CPB',\n",
              " 'CRM',\n",
              " 'CSCO',\n",
              " 'CSRA',\n",
              " 'CSX',\n",
              " 'CTAS',\n",
              " 'CTL',\n",
              " 'CTSH',\n",
              " 'CTXS',\n",
              " 'CVS',\n",
              " 'CVX',\n",
              " 'CXO',\n",
              " 'D',\n",
              " 'DAL',\n",
              " 'DE',\n",
              " 'DFS',\n",
              " 'DG',\n",
              " 'DGX',\n",
              " 'DHI',\n",
              " 'DHR',\n",
              " 'DIS',\n",
              " 'DISCA',\n",
              " 'DISCK',\n",
              " 'DISH',\n",
              " 'DLR',\n",
              " 'DLTR',\n",
              " 'DOV',\n",
              " 'DPS',\n",
              " 'DRE',\n",
              " 'DRI',\n",
              " 'DTE',\n",
              " 'DUK',\n",
              " 'DVA',\n",
              " 'DVN',\n",
              " 'DWDP',\n",
              " 'DXC',\n",
              " 'EA',\n",
              " 'EBAY',\n",
              " 'ECL',\n",
              " 'ED',\n",
              " 'EFX',\n",
              " 'EIX',\n",
              " 'EL',\n",
              " 'EMN',\n",
              " 'EMR',\n",
              " 'EOG',\n",
              " 'EQIX',\n",
              " 'EQR',\n",
              " 'EQT',\n",
              " 'ES',\n",
              " 'ESRX',\n",
              " 'ESS',\n",
              " 'ETFC',\n",
              " 'ETN',\n",
              " 'ETR',\n",
              " 'EVHC',\n",
              " 'EW',\n",
              " 'EXC',\n",
              " 'EXPD',\n",
              " 'EXPE',\n",
              " 'EXR',\n",
              " 'F',\n",
              " 'FAST',\n",
              " 'FB',\n",
              " 'FBHS',\n",
              " 'FCX',\n",
              " 'FDX',\n",
              " 'FE',\n",
              " 'FFIV',\n",
              " 'FIS',\n",
              " 'FISV',\n",
              " 'FITB',\n",
              " 'FL',\n",
              " 'FLIR',\n",
              " 'FLR',\n",
              " 'FLS',\n",
              " 'FMC',\n",
              " 'FOX',\n",
              " 'FOXA',\n",
              " 'FRT',\n",
              " 'FTI',\n",
              " 'FTV',\n",
              " 'GD',\n",
              " 'GE',\n",
              " 'GGP',\n",
              " 'GILD',\n",
              " 'GIS',\n",
              " 'GLW',\n",
              " 'GM',\n",
              " 'GOOG',\n",
              " 'GOOGL',\n",
              " 'GPC',\n",
              " 'GPN',\n",
              " 'GPS',\n",
              " 'GRMN',\n",
              " 'GS',\n",
              " 'GT',\n",
              " 'GWW',\n",
              " 'HAL',\n",
              " 'HAS',\n",
              " 'HBAN',\n",
              " 'HBI',\n",
              " 'HCA',\n",
              " 'HCN',\n",
              " 'HCP',\n",
              " 'HD',\n",
              " 'HES',\n",
              " 'HIG',\n",
              " 'HII',\n",
              " 'HLT',\n",
              " 'HOG',\n",
              " 'HOLX',\n",
              " 'HON',\n",
              " 'HP',\n",
              " 'HPE',\n",
              " 'HPQ',\n",
              " 'HRB',\n",
              " 'HRL',\n",
              " 'HRS',\n",
              " 'HSIC',\n",
              " 'HST',\n",
              " 'HSY',\n",
              " 'HUM',\n",
              " 'IBM',\n",
              " 'ICE',\n",
              " 'IDXX',\n",
              " 'IFF',\n",
              " 'ILMN',\n",
              " 'INCY',\n",
              " 'INFO',\n",
              " 'INTC',\n",
              " 'INTU',\n",
              " 'IP',\n",
              " 'IPG',\n",
              " 'IQV',\n",
              " 'IR',\n",
              " 'IRM',\n",
              " 'ISRG',\n",
              " 'IT',\n",
              " 'ITW',\n",
              " 'IVZ',\n",
              " 'JBHT',\n",
              " 'JCI',\n",
              " 'JEC',\n",
              " 'JNJ',\n",
              " 'JNPR',\n",
              " 'JPM',\n",
              " 'JWN',\n",
              " 'K',\n",
              " 'KEY',\n",
              " 'KHC',\n",
              " 'KIM',\n",
              " 'KLAC',\n",
              " 'KMB',\n",
              " 'KMI',\n",
              " 'KMX',\n",
              " 'KO',\n",
              " 'KORS',\n",
              " 'KR',\n",
              " 'KSS',\n",
              " 'KSU',\n",
              " 'L',\n",
              " 'LB',\n",
              " 'LEG',\n",
              " 'LEN',\n",
              " 'LH',\n",
              " 'LKQ',\n",
              " 'LLL',\n",
              " 'LLY',\n",
              " 'LMT',\n",
              " 'LNC',\n",
              " 'LNT',\n",
              " 'LOW',\n",
              " 'LRCX',\n",
              " 'LUK',\n",
              " 'LUV',\n",
              " 'LYB',\n",
              " 'M',\n",
              " 'MA',\n",
              " 'MAA',\n",
              " 'MAC',\n",
              " 'MAR',\n",
              " 'MAS',\n",
              " 'MAT',\n",
              " 'MCD',\n",
              " 'MCHP',\n",
              " 'MCK',\n",
              " 'MCO',\n",
              " 'MDLZ',\n",
              " 'MDT',\n",
              " 'MET',\n",
              " 'MGM',\n",
              " 'MHK',\n",
              " 'MKC',\n",
              " 'MLM',\n",
              " 'MMC',\n",
              " 'MMM',\n",
              " 'MNST',\n",
              " 'MO',\n",
              " 'MON',\n",
              " 'MOS',\n",
              " 'MPC',\n",
              " 'MRK',\n",
              " 'MRO',\n",
              " 'MS',\n",
              " 'MSFT',\n",
              " 'MSI',\n",
              " 'MTB',\n",
              " 'MTD',\n",
              " 'MU',\n",
              " 'MYL',\n",
              " 'NAVI',\n",
              " 'NBL',\n",
              " 'NCLH',\n",
              " 'NDAQ',\n",
              " 'NEE',\n",
              " 'NEM',\n",
              " 'NFLX',\n",
              " 'NFX',\n",
              " 'NI',\n",
              " 'NKE',\n",
              " 'NLSN',\n",
              " 'NOC',\n",
              " 'NOV',\n",
              " 'NRG',\n",
              " 'NSC',\n",
              " 'NTAP',\n",
              " 'NTRS',\n",
              " 'NUE',\n",
              " 'NVDA',\n",
              " 'NWL',\n",
              " 'NWS',\n",
              " 'NWSA',\n",
              " 'O',\n",
              " 'OKE',\n",
              " 'OMC',\n",
              " 'ORCL',\n",
              " 'ORLY',\n",
              " 'OXY',\n",
              " 'PAYX',\n",
              " 'PBCT',\n",
              " 'PCAR',\n",
              " 'PCG',\n",
              " 'PCLN',\n",
              " 'PDCO',\n",
              " 'PEG',\n",
              " 'PEP',\n",
              " 'PFE',\n",
              " 'PFG',\n",
              " 'PG',\n",
              " 'PGR',\n",
              " 'PH',\n",
              " 'PHM',\n",
              " 'PKG',\n",
              " 'PKI',\n",
              " 'PLD',\n",
              " 'PM',\n",
              " 'PNC',\n",
              " 'PNR',\n",
              " 'PNW',\n",
              " 'PPG',\n",
              " 'PPL',\n",
              " 'PRGO',\n",
              " 'PRU',\n",
              " 'PSA',\n",
              " 'PSX',\n",
              " 'PVH',\n",
              " 'PWR',\n",
              " 'PX',\n",
              " 'PXD',\n",
              " 'PYPL',\n",
              " 'QCOM',\n",
              " 'QRVO',\n",
              " 'RCL',\n",
              " 'RE',\n",
              " 'REG',\n",
              " 'REGN',\n",
              " 'RF',\n",
              " 'RHI',\n",
              " 'RHT',\n",
              " 'RJF',\n",
              " 'RL',\n",
              " 'RMD',\n",
              " 'ROK',\n",
              " 'ROP',\n",
              " 'ROST',\n",
              " 'RRC',\n",
              " 'RSG',\n",
              " 'RTN',\n",
              " 'SBAC',\n",
              " 'SBUX',\n",
              " 'SCG',\n",
              " 'SCHW',\n",
              " 'SEE',\n",
              " 'SHW',\n",
              " 'SIG',\n",
              " 'SJM',\n",
              " 'SLB',\n",
              " 'SLG',\n",
              " 'SNA',\n",
              " 'SNI',\n",
              " 'SNPS',\n",
              " 'SO',\n",
              " 'SPG',\n",
              " 'SPGI',\n",
              " 'SRCL',\n",
              " 'SRE',\n",
              " 'STI',\n",
              " 'STT',\n",
              " 'STX',\n",
              " 'STZ',\n",
              " 'SWK',\n",
              " 'SWKS',\n",
              " 'SYF',\n",
              " 'SYK',\n",
              " 'SYMC',\n",
              " 'SYY',\n",
              " 'T',\n",
              " 'TAP',\n",
              " 'TDG',\n",
              " 'TEL',\n",
              " 'TGT',\n",
              " 'TIF',\n",
              " 'TJX',\n",
              " 'TMK',\n",
              " 'TMO',\n",
              " 'TPR',\n",
              " 'TRIP',\n",
              " 'TROW',\n",
              " 'TRV',\n",
              " 'TSCO',\n",
              " 'TSN',\n",
              " 'TSS',\n",
              " 'TWX',\n",
              " 'TXN',\n",
              " 'TXT',\n",
              " 'UA',\n",
              " 'UAA',\n",
              " 'UAL',\n",
              " 'UDR',\n",
              " 'UHS',\n",
              " 'ULTA',\n",
              " 'UNH',\n",
              " 'UNM',\n",
              " 'UNP',\n",
              " 'UPS',\n",
              " 'URI',\n",
              " 'USB',\n",
              " 'UTX',\n",
              " 'V',\n",
              " 'VAR',\n",
              " 'VFC',\n",
              " 'VIAB',\n",
              " 'VLO',\n",
              " 'VMC',\n",
              " 'VNO',\n",
              " 'VRSK',\n",
              " 'VRSN',\n",
              " 'VRTX',\n",
              " 'VTR',\n",
              " 'VZ',\n",
              " 'WAT',\n",
              " 'WBA',\n",
              " 'WDC',\n",
              " 'WEC',\n",
              " 'WFC',\n",
              " 'WHR',\n",
              " 'WLTW',\n",
              " 'WM',\n",
              " 'WMB',\n",
              " 'WMT',\n",
              " 'WRK',\n",
              " 'WU',\n",
              " 'WY',\n",
              " 'WYN',\n",
              " 'WYNN',\n",
              " 'XEC',\n",
              " 'XEL',\n",
              " 'XL',\n",
              " 'XLNX',\n",
              " 'XOM',\n",
              " 'XRAY',\n",
              " 'XRX',\n",
              " 'XYL',\n",
              " 'YUM',\n",
              " 'ZBH',\n",
              " 'ZION',\n",
              " 'ZTS'}"
            ]
          },
          "metadata": {
            "tags": []
          },
          "execution_count": 117
        }
      ]
    },
    {
      "cell_type": "code",
      "metadata": {
        "id": "XFvN25Yj3w9r",
        "colab_type": "code",
        "colab": {}
      },
      "source": [
        "# Feature Scaling\n",
        "from sklearn.preprocessing import MinMaxScaler\n",
        "\n",
        "sc = MinMaxScaler(feature_range = (0, 1))\n",
        "\n",
        "# scale the data\n",
        "dataset_cl = dataset_cl.reshape(dataset_cl.shape[0], 1)\n",
        "dataset_cl = sc.fit_transform(dataset_cl)"
      ],
      "execution_count": 0,
      "outputs": []
    },
    {
      "cell_type": "markdown",
      "metadata": {
        "id": "UURKEshg3g0G",
        "colab_type": "text"
      },
      "source": [
        "## Step 2:  Cutting our time series into sequences\n",
        "\n",
        "Remember, our time series is a sequence of numbers that we can represent in general mathematically as \n",
        "\n",
        "$$s_{0},s_{1},s_{2},...,s_{P}$$\n",
        "\n",
        "where $s_{p}$ is the numerical value of the time series at time period $p$ and where $P$ is the total length of the series.  In order to apply our RNN we treat the time series prediction problem as a regression problem, and so need to use a sliding window to construct a set of associated input/output pairs to regress on.  This process is animated in the gif below.\n",
        "\n",
        "<img src=\"https://github.com/tonylaioffer/stock-prediction-lstm-using-keras/raw/master/images/timeseries_windowing_training.gif\" width=600 height=288/>\n",
        "\n",
        "For example - using a window of size T = 5 (as illustrated in the gif above) we produce a set of input/output pairs like the one shown in the table below\n",
        "\n",
        "$$\\begin{array}{c|c}\n",
        "\\text{Input} & \\text{Output}\\\\\n",
        "\\hline \\color{CornflowerBlue} {\\langle s_{1},s_{2},s_{3},s_{4},s_{5}\\rangle} & \\color{Goldenrod}{ s_{6}} \\\\\n",
        "\\ \\color{CornflowerBlue} {\\langle s_{2},s_{3},s_{4},s_{5},s_{6} \\rangle } & \\color{Goldenrod} {s_{7} } \\\\\n",
        "\\color{CornflowerBlue}  {\\vdots} & \\color{Goldenrod} {\\vdots}\\\\\n",
        "\\color{CornflowerBlue} { \\langle s_{P-5},s_{P-4},s_{P-3},s_{P-2},s_{P-1} \\rangle } & \\color{Goldenrod} {s_{P}}\n",
        "\\end{array}$$\n",
        "\n",
        "Notice here that each input is a sequence (or vector) of length 4 (and in general has length equal to the window size T) while each corresponding output is a scalar value.  Notice also how given a time series of length P and window size T = 5 as shown above, we created P - 5  input/output pairs.  More generally, for a window size T we create P - T such pairs.\n",
        "\n",
        "Now let's window the input time series as described above!  "
      ]
    },
    {
      "cell_type": "code",
      "metadata": {
        "id": "pvBLqRvm4L6k",
        "colab_type": "code",
        "colab": {}
      },
      "source": [
        "#Create a function to process the data into 7 day look back slices\n",
        "def processData(data, lb):\n",
        "    X, Y = [], []\n",
        "    for i in range(len(data) - lb - 1):\n",
        "        X.append(data[i: (i + lb), 0])\n",
        "        Y.append(data[(i + lb), 0])\n",
        "    return np.array(X), np.array(Y)\n",
        "X, y = processData(dataset_cl, 15)\n"
      ],
      "execution_count": 0,
      "outputs": []
    },
    {
      "cell_type": "markdown",
      "metadata": {
        "id": "yHsQGQ_V42G0",
        "colab_type": "text"
      },
      "source": [
        "## Step 3: Split training and testing sets\n",
        "\n",
        "In order to perform proper testing on our dataset we will lop off the last 1/3 of it for validation (or testing).  \n",
        "\n",
        "Note how here we are **not** splitting the dataset *randomly* as one typically would do when validating a regression model.  This is because our input/output pairs *are related temporally*.   We don't want to validate our model by training on a random subset of the series and then testing on another random subset, as this simulates the scenario that we receive new points *within the timeframe of our training set*.  \n",
        "\n",
        "We want to train on one solid chunk of the series (in our case, the first full 2/3 of it), and validate on a later chunk (the last 1/3) as this simulates how we would predict *future* values of a time series."
      ]
    },
    {
      "cell_type": "code",
      "metadata": {
        "id": "syFXDlpn45xA",
        "colab_type": "code",
        "outputId": "850d5b46-609e-4610-f1ae-4bef266da2f7",
        "colab": {
          "base_uri": "https://localhost:8080/",
          "height": 87
        }
      },
      "source": [
        "X_train, X_test = X[:int(X.shape[0]*0.80)],X[int(X.shape[0]*0.80):]\n",
        "y_train, y_test = y[:int(y.shape[0]*0.80)],y[int(y.shape[0]*0.80):]\n",
        "print(X_train.shape[0])\n",
        "print(X_test.shape[0])\n",
        "print(y_train.shape[0])\n",
        "print(y_test.shape[0])\n",
        "\n",
        "# reshaping\n",
        "X_train = np.reshape(X_train, (X_train.shape[0], 1, X_train.shape[1]))\n",
        "X_test = np.reshape(X_test, (X_test.shape[0], 1, X_test.shape[1]))"
      ],
      "execution_count": 120,
      "outputs": [
        {
          "output_type": "stream",
          "text": [
            "994\n",
            "249\n",
            "994\n",
            "249\n"
          ],
          "name": "stdout"
        }
      ]
    },
    {
      "cell_type": "code",
      "metadata": {
        "id": "oPfVnOcm2bTF",
        "colab_type": "code",
        "colab": {}
      },
      "source": [
        "# Reshaping\n",
        "# X_train = np.reshape(X_train, (X_train.shape[0], 1, X_train.shape[1]))"
      ],
      "execution_count": 0,
      "outputs": []
    },
    {
      "cell_type": "markdown",
      "metadata": {
        "id": "GMXggue15R41",
        "colab_type": "text"
      },
      "source": [
        "## Step 4:  Build and run an RNN regression model\n",
        "\n",
        "Having created input/output pairs out of our time series and cut this into training/testing sets, we can now begin setting up our RNN.  We use Keras to quickly build a two hidden layer RNN of the following specifications\n",
        "\n",
        "- layer 1 uses an LSTM module with 5 hidden units (note here the input_shape = (window_size,1))\n",
        "- layer 2 uses a fully connected module with one unit\n",
        "- the 'mean_squared_error' loss should be used"
      ]
    },
    {
      "cell_type": "code",
      "metadata": {
        "id": "HNWryPPg2bTM",
        "colab_type": "code",
        "colab": {}
      },
      "source": [
        "class RNN(nn.Module):\n",
        "    def __init__(self, i_size, h_size, n_layers, o_size, dropout=0.1, bidirectional=True):\n",
        "        super(RNN, self).__init__()\n",
        "        self.num_directions = bidirectional+1\n",
        "        self.rnn = nn.LSTM(\n",
        "            input_size=i_size,\n",
        "            hidden_size=h_size,\n",
        "            num_layers=n_layers,\n",
        "            dropout=dropout,\n",
        "            bidirectional=bidirectional\n",
        "        )\n",
        "        self.out = nn.Linear(h_size, o_size)\n",
        "\n",
        "    def forward(self, x, h_state):\n",
        "        r_out, hidden_state = self.rnn(x, h_state)\n",
        "        \n",
        "        hidden_size = hidden_state[-1].size(-1)\n",
        "        # print(r_out.size())\n",
        "        r_out = r_out.view(-1,self.num_directions, hidden_size)\n",
        "        # print(r_out.size())\n",
        "        outs = self.out(r_out)\n",
        "        # print(outs.size())\n",
        "        return outs, hidden_state"
      ],
      "execution_count": 0,
      "outputs": []
    },
    {
      "cell_type": "code",
      "metadata": {
        "id": "SwwPpVsK2bTQ",
        "colab_type": "code",
        "colab": {}
      },
      "source": [
        "# Globals\n",
        "\n",
        "INPUT_SIZE = 15\n",
        "HIDDEN_SIZE = 64\n",
        "NUM_LAYERS = 3\n",
        "OUTPUT_SIZE = 1\n",
        "BATCH_SIZE = 128\n",
        "# Hyper parameters\n",
        "\n",
        "learning_rate = 0.001\n",
        "num_epochs = 50\n",
        "\n",
        "rnn = RNN(INPUT_SIZE, HIDDEN_SIZE, NUM_LAYERS, OUTPUT_SIZE,bidirectional=False)\n",
        "rnn.cuda()\n",
        "\n",
        "optimiser = torch.optim.Adam(rnn.parameters(), lr=learning_rate)\n",
        "criterion = nn.MSELoss()\n",
        "\n",
        "hidden_state = None"
      ],
      "execution_count": 0,
      "outputs": []
    },
    {
      "cell_type": "code",
      "metadata": {
        "id": "BiQaghDCtNdg",
        "colab_type": "code",
        "outputId": "771cde1d-5655-426e-ffb2-a5bf8126a439",
        "colab": {
          "base_uri": "https://localhost:8080/",
          "height": 87
        }
      },
      "source": [
        "rnn"
      ],
      "execution_count": 124,
      "outputs": [
        {
          "output_type": "execute_result",
          "data": {
            "text/plain": [
              "RNN(\n",
              "  (rnn): LSTM(15, 64, num_layers=3, dropout=0.1)\n",
              "  (out): Linear(in_features=64, out_features=1, bias=True)\n",
              ")"
            ]
          },
          "metadata": {
            "tags": []
          },
          "execution_count": 124
        }
      ]
    },
    {
      "cell_type": "code",
      "metadata": {
        "id": "olY5dc_sQ345",
        "colab_type": "code",
        "outputId": "02adb97a-5a73-40f1-a276-2c4dae6a4496",
        "colab": {
          "base_uri": "https://localhost:8080/",
          "height": 55
        }
      },
      "source": [
        "\"\"\"\n",
        "class StockDataset(Dataset):\n",
        "    \n",
        "    def __init__(self, X_dataset, Y_dataset):\n",
        "        \n",
        "        self.X_dataset = torch.from_numpy(X_dataset)\n",
        "        self.Y_dataset = torch.from_numpy(Y_dataset)\n",
        "        \n",
        "    def __len__(self):\n",
        "        return np.shape(self.Y_dataset)[0]\n",
        "\n",
        "    def __getitem__(self, idx):\n",
        "        \n",
        "        sample = {'Sequence': self.X_dataset[:,idx,:], \"Target\": self.Y_dataset[idx]}\n",
        "      \n",
        "\n",
        "        return sample\n",
        "\"\"\""
      ],
      "execution_count": 125,
      "outputs": [
        {
          "output_type": "execute_result",
          "data": {
            "text/plain": [
              "'\\nclass StockDataset(Dataset):\\n    \\n    def __init__(self, X_dataset, Y_dataset):\\n        \\n        self.X_dataset = torch.from_numpy(X_dataset)\\n        self.Y_dataset = torch.from_numpy(Y_dataset)\\n        \\n    def __len__(self):\\n        return np.shape(self.Y_dataset)[0]\\n\\n    def __getitem__(self, idx):\\n        \\n        sample = {\\'Sequence\\': self.X_dataset[:,idx,:], \"Target\": self.Y_dataset[idx]}\\n      \\n\\n        return sample\\n'"
            ]
          },
          "metadata": {
            "tags": []
          },
          "execution_count": 125
        }
      ]
    },
    {
      "cell_type": "code",
      "metadata": {
        "id": "de3JU38uRp-S",
        "colab_type": "code",
        "colab": {}
      },
      "source": [
        "# Train_ds=StockDataset(X_train, y_train)"
      ],
      "execution_count": 0,
      "outputs": []
    },
    {
      "cell_type": "code",
      "metadata": {
        "id": "QlRhF5JP2bTX",
        "colab_type": "code",
        "outputId": "dd2224d8-669d-4b0f-863d-18661dbc01ba",
        "colab": {
          "base_uri": "https://localhost:8080/",
          "height": 884
        }
      },
      "source": [
        "history = []\n",
        "X_test_cuda = torch.tensor(X_test).float().cuda()\n",
        "y_test_cuda = torch.tensor(y_test).float().cuda()\n",
        "\n",
        "# we use all the data in one batch\n",
        "inputs_cuda = torch.tensor(X_train).float().cuda()\n",
        "labels_cuda = torch.tensor(y_train).float().cuda()\n",
        "\n",
        "for epoch in range(num_epochs):\n",
        "    rnn.train()\n",
        "    output, hidden_state = rnn(inputs_cuda, hidden_state) \n",
        "    # print(output.size())\n",
        "\n",
        "    loss = criterion(output[:,0,:].view(-1), labels_cuda)\n",
        "    optimiser.zero_grad()\n",
        "    loss.backward(retain_graph=True)                     # back propagation\n",
        "    optimiser.step()                                     # update the parameters\n",
        "    \n",
        "    if epoch % 20 == 0:\n",
        "        rnn.eval()\n",
        "        test_output, _ = rnn(X_test_cuda, hidden_state)\n",
        "        test_loss = criterion(test_output.view(-1), y_test_cuda)\n",
        "        print('epoch {}, loss {}, eval loss {}'.format(epoch, loss.item(), test_loss.item()))\n",
        "    else:\n",
        "        print('epoch {}, loss {}'.format(epoch, loss.item()))\n",
        "    history.append(loss.item())"
      ],
      "execution_count": 127,
      "outputs": [
        {
          "output_type": "stream",
          "text": [
            "epoch 0, loss 0.237211212516, eval loss 0.80610024929\n",
            "epoch 1, loss 0.21013392508\n",
            "epoch 2, loss 0.184935808182\n",
            "epoch 3, loss 0.161320149899\n",
            "epoch 4, loss 0.138460829854\n",
            "epoch 5, loss 0.11616872251\n",
            "epoch 6, loss 0.0941845178604\n",
            "epoch 7, loss 0.072275750339\n",
            "epoch 8, loss 0.0511851757765\n",
            "epoch 9, loss 0.0322065204382\n",
            "epoch 10, loss 0.018521707505\n",
            "epoch 11, loss 0.0161605793983\n",
            "epoch 12, loss 0.0293111763895\n",
            "epoch 13, loss 0.0401205420494\n",
            "epoch 14, loss 0.0386780202389\n",
            "epoch 15, loss 0.0300151389092\n",
            "epoch 16, loss 0.0217530149966\n",
            "epoch 17, loss 0.0170673429966\n",
            "epoch 18, loss 0.0158641505986\n",
            "epoch 19, loss 0.0168018937111\n",
            "epoch 20, loss 0.0181749667972, eval loss 0.179782390594\n",
            "epoch 21, loss 0.0199159570038\n",
            "epoch 22, loss 0.0208899918944\n",
            "epoch 23, loss 0.0213356669992\n",
            "epoch 24, loss 0.0207222867757\n",
            "epoch 25, loss 0.019593719393\n",
            "epoch 26, loss 0.0177555158734\n",
            "epoch 27, loss 0.0157921556383\n",
            "epoch 28, loss 0.0135997980833\n",
            "epoch 29, loss 0.0118153328076\n",
            "epoch 30, loss 0.0105333589017\n",
            "epoch 31, loss 0.0100615881383\n",
            "epoch 32, loss 0.0103979678825\n",
            "epoch 33, loss 0.0111599592492\n",
            "epoch 34, loss 0.0117856580764\n",
            "epoch 35, loss 0.0111165512353\n",
            "epoch 36, loss 0.00962258689106\n",
            "epoch 37, loss 0.00827679783106\n",
            "epoch 38, loss 0.0069995932281\n",
            "epoch 39, loss 0.00647166930139\n",
            "epoch 40, loss 0.00615382613614, eval loss 0.0560650080442\n",
            "epoch 41, loss 0.00612743711099\n",
            "epoch 42, loss 0.00603959150612\n",
            "epoch 43, loss 0.00587206939235\n",
            "epoch 44, loss 0.00517686828971\n",
            "epoch 45, loss 0.00412948010489\n",
            "epoch 46, loss 0.00344088533893\n",
            "epoch 47, loss 0.00330446870066\n",
            "epoch 48, loss 0.00363510008901\n",
            "epoch 49, loss 0.00369492359459\n"
          ],
          "name": "stdout"
        }
      ]
    },
    {
      "cell_type": "markdown",
      "metadata": {
        "id": "PY0wF6e46-JE",
        "colab_type": "text"
      },
      "source": [
        "## Step 5: Checking model performance\n",
        "\n",
        "With our model fit we can now make predictions on both our training and testing sets."
      ]
    },
    {
      "cell_type": "code",
      "metadata": {
        "id": "6dygBlig6_XD",
        "colab_type": "code",
        "outputId": "97be6641-19c2-4c82-beb2-6dd5922ff4c4",
        "colab": {
          "base_uri": "https://localhost:8080/",
          "height": 287
        }
      },
      "source": [
        "plt.plot(history)\n",
        "# dplt.plot(history.history['val_loss'])"
      ],
      "execution_count": 128,
      "outputs": [
        {
          "output_type": "execute_result",
          "data": {
            "text/plain": [
              "[<matplotlib.lines.Line2D at 0x7fb0e0846c50>]"
            ]
          },
          "metadata": {
            "tags": []
          },
          "execution_count": 128
        },
        {
          "output_type": "display_data",
          "data": {
            "image/png": "[encoded data removed]",
            "text/plain": [
              "<Figure size 432x288 with 1 Axes>"
            ]
          },
          "metadata": {
            "tags": []
          }
        }
      ]
    },
    {
      "cell_type": "code",
      "metadata": {
        "id": "hyICDKXa7Vbe",
        "colab_type": "code",
        "colab": {}
      },
      "source": [
        "# X_train_X_test = np.concatenate((X_train, X_test),axis=0)\n",
        "# hidden_state = None\n",
        "rnn.eval()\n",
        "# test_inputs = torch.tensor(X_test).float().cuda()\n",
        "test_predict, _ = rnn(X_test_cuda, hidden_state)\n",
        "test_predict_cpu0 = test_predict.cpu().detach().numpy()"
      ],
      "execution_count": 0,
      "outputs": []
    },
    {
      "cell_type": "code",
      "metadata": {
        "id": "z5PgkdBWFMbV",
        "colab_type": "code",
        "colab": {}
      },
      "source": [
        "test_predict_cpu0.shape\n",
        "test_predict_cpu = []\n",
        "for i in range(test_predict_cpu0.shape[0]):\n",
        "  test_predict_cpu.append([test_predict_cpu0[i, 0, 0]])\n",
        "#test_predict_cpu"
      ],
      "execution_count": 0,
      "outputs": []
    },
    {
      "cell_type": "code",
      "metadata": {
        "id": "c-__h1sU7kW6",
        "colab_type": "code",
        "outputId": "5841a2dc-47cf-47da-b867-deda60d5b3ac",
        "colab": {
          "base_uri": "https://localhost:8080/",
          "height": 287
        }
      },
      "source": [
        "plt.plot(sc.inverse_transform(y_test.reshape(-1,1)))\n",
        "plt.plot(sc.inverse_transform(test_predict_cpu))"
      ],
      "execution_count": 131,
      "outputs": [
        {
          "output_type": "execute_result",
          "data": {
            "text/plain": [
              "[<matplotlib.lines.Line2D at 0x7fb0e0837f50>]"
            ]
          },
          "metadata": {
            "tags": []
          },
          "execution_count": 131
        },
        {
          "output_type": "display_data",
          "data": {
            "image/png": "[encoded data removed]",
            "text/plain": [
              "<Figure size 432x288 with 1 Axes>"
            ]
          },
          "metadata": {
            "tags": []
          }
        }
      ]
    },
    {
      "cell_type": "code",
      "metadata": {
        "id": "LnMGQ5Sa8vMs",
        "colab_type": "code",
        "colab": {
          "base_uri": "https://localhost:8080/",
          "height": 335
        },
        "outputId": "42c6f771-1d56-4100-bc76-1982243cbe12"
      },
      "source": [
        "# plot original data\n",
        "plt.plot(sc.inverse_transform(y.reshape(-1,1)), color='k')\n",
        "\n",
        "# train_inputs = torch.tensor(X_train).float().cuda()\n",
        "train_pred, hidden_state = rnn(inputs_cuda, None)\n",
        "train_pred_cpu0 = train_pred.cpu().detach().numpy()\n",
        "train_pred_cpu = []\n",
        "for i in range(train_pred_cpu0.shape[0]):\n",
        "  train_pred_cpu.append([train_pred_cpu0[i, 0, 0]])\n",
        "print(len(train_pred_cpu))\n",
        "\n",
        "# use hidden state from previous training data\n",
        "test_predict, _ = rnn(X_test_cuda, hidden_state)\n",
        "test_predict_cpu0 = test_predict.cpu().detach().numpy()\n",
        "test_pred_cpu = []\n",
        "for i in range(test_predict_cpu0.shape[0]):\n",
        "  test_pred_cpu.append([test_predict_cpu0[i, 0, 0]])\n",
        "print(len(test_pred_cpu))\n",
        "\n",
        "# plt.plot(scl.inverse_transform(y_test.reshape(-1,1)))\n",
        "split_pt = int(X.shape[0] * 0.80) + 15 # window_size\n",
        "print(split_pt)\n",
        "plt.plot(np.arange(15, split_pt, 1), sc.inverse_transform(train_pred_cpu), color='b')\n",
        "plt.plot(np.arange(split_pt, split_pt + len(test_pred_cpu), 1), sc.inverse_transform(test_pred_cpu), color='r')\n",
        "\n",
        "# pretty up graph\n",
        "plt.xlabel('day')\n",
        "plt.ylabel('price of AAPL stock')\n",
        "plt.legend(['original series','training fit','testing fit'], loc='center left', bbox_to_anchor=(1, 0.5))\n",
        "plt.show()"
      ],
      "execution_count": 132,
      "outputs": [
        {
          "output_type": "stream",
          "text": [
            "994\n",
            "249\n",
            "1001\n"
          ],
          "name": "stdout"
        },
        {
          "output_type": "display_data",
          "data": {
            "image/png": "[encoded data removed]",
            "text/plain": [
              "<Figure size 432x288 with 1 Axes>"
            ]
          },
          "metadata": {
            "tags": []
          }
        }
      ]
    }
  ]
}